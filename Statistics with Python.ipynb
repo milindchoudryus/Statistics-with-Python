{
  "nbformat": 4,
  "nbformat_minor": 0,
  "metadata": {
    "colab": {
      "provenance": []
    },
    "kernelspec": {
      "name": "python3",
      "display_name": "Python 3"
    },
    "language_info": {
      "name": "python"
    }
  },
  "cells": [
    {
      "cell_type": "markdown",
      "source": [
        "**(a)**"
      ],
      "metadata": {
        "id": "v6d_rdj3ef0L"
      }
    },
    {
      "cell_type": "code",
      "execution_count": null,
      "metadata": {
        "colab": {
          "base_uri": "https://localhost:8080/"
        },
        "id": "BhOJpvEMXiPt",
        "outputId": "4fae8405-fb0e-4544-9861-f2a73ad5cf4a"
      },
      "outputs": [
        {
          "output_type": "stream",
          "name": "stdout",
          "text": [
            "-2.2204460492503132e-17\n",
            "164.7\n",
            "2.5\n"
          ]
        }
      ],
      "source": [
        "X = [0.3,-0.3,0.44,-0.60,1.20,0.40,-0.12,-1.60,1.60,-1.32]\n",
        "Y = [153,175,155,135, 172, 150,115, 137, 200, 130, 140, 265, 185,112,140,\n",
        "150,165,185,210,220]\n",
        "Z = [3,3,1,4,2,1,4,2]\n",
        "\n",
        "def amean(n):\n",
        "  a = 0\n",
        "  for ele in n:\n",
        "    a = a + ele\n",
        "\n",
        "  return a/len(n)\n",
        "\n",
        "print(amean(X))\n",
        "print(amean(Y))\n",
        "print(amean(Z))"
      ]
    },
    {
      "cell_type": "markdown",
      "source": [
        "**(b)**"
      ],
      "metadata": {
        "id": "1p08-FC0eofg"
      }
    },
    {
      "cell_type": "code",
      "source": [
        "def hmean(n):\n",
        "  b = 0\n",
        "  for i in n:\n",
        "     b = b + 1/i\n",
        "  b = b/len(n)\n",
        "  return 1/b\n",
        "\n",
        "\n",
        "print(hmean(X))\n",
        "print(hmean(Y))\n",
        "print(hmean(Z))"
      ],
      "metadata": {
        "colab": {
          "base_uri": "https://localhost:8080/"
        },
        "id": "IJDCf5XjYY-9",
        "outputId": "afb1a909-9376-4efe-8564-cddea0407d19"
      },
      "execution_count": null,
      "outputs": [
        {
          "output_type": "stream",
          "name": "stdout",
          "text": [
            "1.959183673469388\n",
            "1.5319148936170213\n",
            "1.9200000000000004\n"
          ]
        }
      ]
    },
    {
      "cell_type": "markdown",
      "source": [
        "**(c)**"
      ],
      "metadata": {
        "id": "mMhYeak5wp1s"
      }
    },
    {
      "cell_type": "code",
      "source": [
        "def gmean(n):\n",
        "  c = 1\n",
        "  for ele in n:\n",
        "    c = c * ele\n",
        "  c = c**(1/len(n))\n",
        "  return c\n",
        "\n",
        "\n",
        "print(gmean(X))\n",
        "print(gmean(Y))\n",
        "print(gmean(Z))"
      ],
      "metadata": {
        "id": "UOZ_z2kkgGKO",
        "colab": {
          "base_uri": "https://localhost:8080/"
        },
        "outputId": "792931fc-1a88-499f-d16f-e7070bf58772"
      },
      "execution_count": null,
      "outputs": [
        {
          "output_type": "stream",
          "name": "stdout",
          "text": [
            "2.2461919979205445\n",
            "1.8171205928321397\n",
            "2.213363839400643\n"
          ]
        }
      ]
    },
    {
      "cell_type": "markdown",
      "source": [
        "**(d)**"
      ],
      "metadata": {
        "id": "-mkLmwm6wtK2"
      }
    },
    {
      "cell_type": "code",
      "source": [
        "def agmean(n):\n",
        "  am = amean(n)\n",
        "  gm = gmean(n)\n",
        "  while abs(am - gm) > 0.000001:\n",
        "    tam = (am + gm)/2\n",
        "    gm = (am*gm) ** (1/2)\n",
        "    am = tam\n",
        "    agm = (am + gm)/2\n",
        "  return agm\n",
        "\n",
        "print(agmean(X))\n",
        "print(agmean(Y))\n",
        "print(agmean(Z))"
      ],
      "metadata": {
        "colab": {
          "base_uri": "https://localhost:8080/"
        },
        "id": "VQu51HWg-yjd",
        "outputId": "89223653-6e10-42a2-ab60-a112281865dc"
      },
      "execution_count": null,
      "outputs": [
        {
          "output_type": "stream",
          "name": "stdout",
          "text": [
            "2.3713978965499356\n",
            "1.988050626465208\n",
            "2.3545004777750806\n"
          ]
        }
      ]
    },
    {
      "cell_type": "markdown",
      "source": [
        "**(e)**"
      ],
      "metadata": {
        "id": "5A9O9WEzwxCE"
      }
    },
    {
      "cell_type": "code",
      "source": [
        "def aghmean(n):\n",
        "  am = amean(n)\n",
        "  gm = gmean(n)\n",
        "  hm = hmean(n)\n",
        "  while max(abs(am - gm),abs(am - hm),abs(gm - hm)) > 0.00001:\n",
        "    tam = (am+gm+hm)/3\n",
        "    tgm = (am*gm*hm)**(1/3)\n",
        "    hm = 3/(1/am + 1/gm + 1/hm)\n",
        "    am = tam\n",
        "    gm = tgm\n",
        "  return (am + gm + hm)/3\n",
        "\n",
        "\n",
        "# def aghmean(X):\n",
        "#   am = amean(X)\n",
        "#   gm = gmean(X)\n",
        "#   hm = hmean(X)\n",
        "#   while max(abs(am - gm),abs(am - hm),abs(gm - hm)) > 0.00001:\n",
        "#     tam = (am + gm + hm)/3\n",
        "#     tgm = (am * gm * hm)**(1/3)\n",
        "#     hm = 3/(1/am + 1/gm + 1/hm)\n",
        "#     am = tam\n",
        "#     gm = tgm\n",
        "#   return (am + gm + hm)/3\n",
        "\n",
        "print(aghmean(X))\n",
        "print(aghmean(Y))\n",
        "print(aghmean(Z))"
      ],
      "metadata": {
        "colab": {
          "base_uri": "https://localhost:8080/"
        },
        "id": "W-kiTDkQKB3V",
        "outputId": "cb45ba84-a3b0-404a-93d8-085df2a565f0"
      },
      "execution_count": null,
      "outputs": [
        {
          "output_type": "stream",
          "name": "stdout",
          "text": [
            "2.224062383539353\n",
            "1.8202847281250032\n",
            "2.198327159900212\n"
          ]
        }
      ]
    },
    {
      "cell_type": "markdown",
      "source": [
        "**(f)**"
      ],
      "metadata": {
        "id": "5IrguI3wetPG"
      }
    },
    {
      "cell_type": "code",
      "source": [
        "def median (X):\n",
        "  n = len(X)\n",
        "  X.sort()\n",
        "  if n%2 == 0:\n",
        "    med = (X[n//2-1] + X[n//2])/2\n",
        "  else:\n",
        "    med = X[n//2]\n",
        "  return med\n",
        "\n",
        "print(median (X))\n",
        "print(median (Y))\n",
        "print(median (Z))"
      ],
      "metadata": {
        "colab": {
          "base_uri": "https://localhost:8080/"
        },
        "id": "mfXl-DLkQAF-",
        "outputId": "856d79ab-ec63-4aae-b539-ba13e62bae57"
      },
      "execution_count": null,
      "outputs": [
        {
          "output_type": "stream",
          "name": "stdout",
          "text": [
            "71.5\n",
            "2.0\n",
            "2.5\n"
          ]
        }
      ]
    },
    {
      "cell_type": "markdown",
      "source": [
        "**(g)**"
      ],
      "metadata": {
        "id": "J5NBc0TbhIsq"
      }
    },
    {
      "cell_type": "code",
      "source": [
        "# import numpy as np\n",
        "from scipy import stats\n",
        "\n",
        "def mode (X):\n",
        "  mode = stats.mode(X)\n",
        "  return mode\n",
        "\n",
        "print(mode (X))\n",
        "print(mode (Y))\n",
        "print(mode (Z))"
      ],
      "metadata": {
        "id": "aF_4yli_AD6Z",
        "colab": {
          "base_uri": "https://localhost:8080/"
        },
        "outputId": "4306d586-a1ed-496a-decd-3c93e42e74ff"
      },
      "execution_count": null,
      "outputs": [
        {
          "output_type": "stream",
          "name": "stdout",
          "text": [
            "ModeResult(mode=3, count=4)\n",
            "ModeResult(mode=1, count=3)\n",
            "ModeResult(mode=1, count=2)\n"
          ]
        }
      ]
    },
    {
      "cell_type": "markdown",
      "source": [
        "**(h)**"
      ],
      "metadata": {
        "id": "ll4bHlh_hSmk"
      }
    },
    {
      "cell_type": "code",
      "source": [
        "def midpoint(X):\n",
        "  mdp = (max(X)+min(X))/2\n",
        "  return mdp\n",
        "\n",
        "print(midpoint(X))\n",
        "print(midpoint(Y))\n",
        "print(midpoint(Z))\n"
      ],
      "metadata": {
        "colab": {
          "base_uri": "https://localhost:8080/"
        },
        "id": "atKMSxNKf2np",
        "outputId": "9468aa92-ef7a-4a12-a614-b1e6a85dd1ce"
      },
      "execution_count": null,
      "outputs": [
        {
          "output_type": "stream",
          "name": "stdout",
          "text": [
            "2.5\n",
            "2.5\n",
            "2.5\n"
          ]
        }
      ]
    },
    {
      "cell_type": "markdown",
      "source": [
        "**(i)**"
      ],
      "metadata": {
        "id": "9BRhyFc7w1_x"
      }
    },
    {
      "cell_type": "code",
      "source": [
        "import math\n",
        "def trimdpnt(X, p):\n",
        "  n = len(X)\n",
        "  X.sort()\n",
        "  s = math.floor(n*p/100+1)\n",
        "  e = math.floor(n*(100-p)/100)\n",
        "  return (X[s-1]+X[e-1])/2"
      ],
      "metadata": {
        "id": "xG-4y0CEiX3q"
      },
      "execution_count": null,
      "outputs": []
    },
    {
      "cell_type": "code",
      "source": [
        "print(trimdpnt(X,25))\n",
        "print(trimdpnt(Y, 25))\n",
        "print(trimdpnt(Z, 25))"
      ],
      "metadata": {
        "colab": {
          "base_uri": "https://localhost:8080/"
        },
        "id": "smbmbmXb2kJC",
        "outputId": "3e75ef21-7fba-4683-f114-1f8408fa5827"
      },
      "execution_count": null,
      "outputs": [
        {
          "output_type": "stream",
          "name": "stdout",
          "text": [
            "2.5\n",
            "2.0\n",
            "2.5\n"
          ]
        }
      ]
    },
    {
      "cell_type": "markdown",
      "source": [
        "**(j)**"
      ],
      "metadata": {
        "id": "5iHHoOyWw5qv"
      }
    },
    {
      "cell_type": "code",
      "source": [
        "def mymedian(X):\n",
        "  n = len(X)\n",
        "  X.sort()\n",
        "  if n % 2 == 0:\n",
        "    return (X[n//2-1] + X[n//2])/2\n",
        "  else:\n",
        "    return X[n//2]\n",
        "\n",
        "import numpy as np\n",
        "def Quartile_x(X):\n",
        "  n = len(X)\n",
        "  X.sort()\n",
        "  S = np.array(X)\n",
        "  e = math.floor(n/2)\n",
        "  s = math.floor((n+1)/2)\n",
        "  return (mymedian(S[:e]), mymedian(S[s:n]))\n",
        "\n",
        "print(Quartile_x(X))\n",
        "print(Quartile_x(Y))\n",
        "print(Quartile_x(Z))"
      ],
      "metadata": {
        "id": "g9LyThAx09rK",
        "colab": {
          "base_uri": "https://localhost:8080/"
        },
        "outputId": "2e2a4067-f464-4480-802d-d43c1acc48e5"
      },
      "execution_count": null,
      "outputs": [
        {
          "output_type": "stream",
          "name": "stdout",
          "text": [
            "(1.5, 3.0)\n",
            "(1, 3)\n",
            "(1.5, 3.5)\n"
          ]
        }
      ]
    },
    {
      "cell_type": "markdown",
      "source": [
        "**(k)**"
      ],
      "metadata": {
        "id": "QJ7Nvapyw8bF"
      }
    },
    {
      "cell_type": "code",
      "source": [
        "def Quart(X):\n",
        "  n = len(X)\n",
        "  X.sort()\n",
        "  S = np.array(X)\n",
        "  e = math.ceil(n/2)\n",
        "  s = math.floor(n/2)\n",
        "  return(mymedian(S[:e]), mymedian(S[s:n]))\n",
        "\n",
        "print(Quart(X))\n",
        "print(Quart(Y))\n",
        "print(Quart(Z))"
      ],
      "metadata": {
        "id": "RvAQa_ey1VOJ",
        "colab": {
          "base_uri": "https://localhost:8080/"
        },
        "outputId": "6c7b5bab-68ad-4598-b30a-525a596693ff"
      },
      "execution_count": null,
      "outputs": [
        {
          "output_type": "stream",
          "name": "stdout",
          "text": [
            "(1.5, 3.0)\n",
            "(1, 3)\n",
            "(1.5, 3.5)\n"
          ]
        }
      ]
    },
    {
      "cell_type": "markdown",
      "source": [
        "**(l)**"
      ],
      "metadata": {
        "id": "DyETEZcBw_Sh"
      }
    },
    {
      "cell_type": "code",
      "source": [
        "def Quart_e(X):\n",
        "  n = len(X)\n",
        "  X.sort()\n",
        "  q1 = (4 - (n+2)%4)/4 * X[math.floor((n+2)/4)-1] + ((n+2)%4)/4 * X[math.ceil((n+2)/4)-1]\n",
        "  q3 = ((n+2)%4)/4 * X[math.floor((3*n+2)/4)-1] + (4-(n+2)%4)/4 * X[math.ceil((3*n+2)/4)-1]\n",
        "  return(q1, q3)\n",
        "\n",
        "print(Quart_e(X))\n",
        "print(Quart_e(Y))\n",
        "print(Quart_e(Z))\n"
      ],
      "metadata": {
        "colab": {
          "base_uri": "https://localhost:8080/"
        },
        "id": "CjRPogl13Bnl",
        "outputId": "009cd776-d715-478f-a7bc-5d6640d74af8"
      },
      "execution_count": null,
      "outputs": [
        {
          "output_type": "stream",
          "name": "stdout",
          "text": [
            "(1.5, 3.0)\n",
            "(1.0, 3.0)\n",
            "(1.5, 3.5)\n"
          ]
        }
      ]
    },
    {
      "cell_type": "markdown",
      "source": [
        "**(m)**"
      ],
      "metadata": {
        "id": "c0xhmivYxCTs"
      }
    },
    {
      "cell_type": "code",
      "source": [
        "def Quart_e(X):\n",
        "  n = len(X)\n",
        "  X.sort()\n",
        "  q1 = (4 - (n-1)%4)/4 * X[math.floor((n-1)/4)] + ((n-1)%4)/4 * X[math.ceil((n-1)/4)]\n",
        "  q3 = ((n-1)%4)/4 * X[math.floor((3*n-3)/4)] + (4-(n-1)%4)/4 * X[math.ceil((3*n-3)/4)]\n",
        "  return(q1, q3)\n",
        "\n",
        "print(Quart_e(X))\n",
        "print(Quart_e(Y))\n",
        "print(Quart_e(Z))"
      ],
      "metadata": {
        "colab": {
          "base_uri": "https://localhost:8080/"
        },
        "id": "EFUmMmkH3LQL",
        "outputId": "58cbc1a5-f2d0-4d6b-cd5c-34e14535bca0"
      },
      "execution_count": null,
      "outputs": [
        {
          "output_type": "stream",
          "name": "stdout",
          "text": [
            "(1.75, 3.0)\n",
            "(1.0, 3.0)\n",
            "(1.75, 3.25)\n"
          ]
        }
      ]
    },
    {
      "cell_type": "markdown",
      "source": [
        "3.1"
      ],
      "metadata": {
        "id": "NJV4Z9bU3Wmf"
      }
    },
    {
      "cell_type": "markdown",
      "source": [
        "**(a)**"
      ],
      "metadata": {
        "id": "7SejJ2FWxFr8"
      }
    },
    {
      "cell_type": "code",
      "source": [
        "def avar(X):\n",
        "  m = amean(X)\n",
        "  n = 0\n",
        "  for ele in X:\n",
        "    n += (ele - m)**2\n",
        "  n = n/len(X)\n",
        "  return n\n",
        "\n",
        "print(avar(X))\n",
        "print(avar(Y))\n",
        "print(avar(Z))"
      ],
      "metadata": {
        "colab": {
          "base_uri": "https://localhost:8080/"
        },
        "id": "IB7PBPgI3Tb8",
        "outputId": "0b7239e7-073e-4c59-e88b-70e45a736575"
      },
      "execution_count": null,
      "outputs": [
        {
          "output_type": "stream",
          "name": "stdout",
          "text": [
            "1.0\n",
            "1.4722222222222223\n",
            "1.25\n"
          ]
        }
      ]
    },
    {
      "cell_type": "markdown",
      "source": [
        "**(b)**"
      ],
      "metadata": {
        "id": "V5pnBTHqxIg5"
      }
    },
    {
      "cell_type": "code",
      "source": [
        "def avar(X):\n",
        "  m = amean(X)\n",
        "  n = 0\n",
        "  for ele in X:\n",
        "    n += (ele - m)**2\n",
        "  n = n/(len(X)-1)\n",
        "  return n\n",
        "\n",
        "print(avar(X))\n",
        "print(avar(Y))\n",
        "print(avar(Z))"
      ],
      "metadata": {
        "colab": {
          "base_uri": "https://localhost:8080/"
        },
        "id": "3_MIEZ-63tmY",
        "outputId": "b401a300-e211-4a37-b1b5-b895dfdbc901"
      },
      "execution_count": null,
      "outputs": [
        {
          "output_type": "stream",
          "name": "stdout",
          "text": [
            "1.1428571428571428\n",
            "1.7666666666666668\n",
            "1.4285714285714286\n"
          ]
        }
      ]
    },
    {
      "cell_type": "markdown",
      "source": [
        "**(c)**"
      ],
      "metadata": {
        "id": "qsI88H-AxMU8"
      }
    },
    {
      "cell_type": "code",
      "source": [
        "def avar(X):\n",
        "  m = amean(X)\n",
        "  n = 0\n",
        "  for ele in X:\n",
        "    n += (ele - m)**2\n",
        "  n = n/len(X)\n",
        "  return n**(1/2)\n",
        "\n",
        "print(avar(X))\n",
        "print(avar(Y))\n",
        "print(avar(Z))"
      ],
      "metadata": {
        "colab": {
          "base_uri": "https://localhost:8080/",
          "height": 211
        },
        "id": "Q_qpUcI04LkS",
        "outputId": "77125dee-9c48-4b20-d6d3-10f45b63947d"
      },
      "execution_count": null,
      "outputs": [
        {
          "output_type": "error",
          "ename": "NameError",
          "evalue": "name 'X' is not defined",
          "traceback": [
            "\u001b[0;31m---------------------------------------------------------------------------\u001b[0m",
            "\u001b[0;31mNameError\u001b[0m                                 Traceback (most recent call last)",
            "\u001b[0;32m<ipython-input-1-484980c1d44f>\u001b[0m in \u001b[0;36m<cell line: 9>\u001b[0;34m()\u001b[0m\n\u001b[1;32m      7\u001b[0m   \u001b[0;32mreturn\u001b[0m \u001b[0mn\u001b[0m\u001b[0;34m**\u001b[0m\u001b[0;34m(\u001b[0m\u001b[0;36m1\u001b[0m\u001b[0;34m/\u001b[0m\u001b[0;36m2\u001b[0m\u001b[0;34m)\u001b[0m\u001b[0;34m\u001b[0m\u001b[0;34m\u001b[0m\u001b[0m\n\u001b[1;32m      8\u001b[0m \u001b[0;34m\u001b[0m\u001b[0m\n\u001b[0;32m----> 9\u001b[0;31m \u001b[0mprint\u001b[0m\u001b[0;34m(\u001b[0m\u001b[0mavar\u001b[0m\u001b[0;34m(\u001b[0m\u001b[0mX\u001b[0m\u001b[0;34m)\u001b[0m\u001b[0;34m)\u001b[0m\u001b[0;34m\u001b[0m\u001b[0;34m\u001b[0m\u001b[0m\n\u001b[0m\u001b[1;32m     10\u001b[0m \u001b[0mprint\u001b[0m\u001b[0;34m(\u001b[0m\u001b[0mavar\u001b[0m\u001b[0;34m(\u001b[0m\u001b[0mY\u001b[0m\u001b[0;34m)\u001b[0m\u001b[0;34m)\u001b[0m\u001b[0;34m\u001b[0m\u001b[0;34m\u001b[0m\u001b[0m\n\u001b[1;32m     11\u001b[0m \u001b[0mprint\u001b[0m\u001b[0;34m(\u001b[0m\u001b[0mavar\u001b[0m\u001b[0;34m(\u001b[0m\u001b[0mZ\u001b[0m\u001b[0;34m)\u001b[0m\u001b[0;34m)\u001b[0m\u001b[0;34m\u001b[0m\u001b[0;34m\u001b[0m\u001b[0m\n",
            "\u001b[0;31mNameError\u001b[0m: name 'X' is not defined"
          ]
        }
      ]
    },
    {
      "cell_type": "markdown",
      "source": [
        "**(d)**"
      ],
      "metadata": {
        "id": "SflZwOy7xPC4"
      }
    },
    {
      "cell_type": "code",
      "source": [
        "def MAD(X):\n",
        "  mX = amean(X)\n",
        "  mV = 0\n",
        "  mad = 0\n",
        "  for ele in X:\n",
        "    mad +=abs(ele - mX)\n",
        "  mad = mad/len(X)\n",
        "  return mad\n",
        "\n",
        "print(MAD(X))\n",
        "print(MAD(Y))\n",
        "print(MAD(Z))\n"
      ],
      "metadata": {
        "colab": {
          "base_uri": "https://localhost:8080/"
        },
        "id": "0WJvSlWe4bQ1",
        "outputId": "1c436f9f-6fd1-439c-938c-a8c93fecc9f5"
      },
      "execution_count": null,
      "outputs": [
        {
          "output_type": "stream",
          "name": "stdout",
          "text": [
            "0.875\n",
            "1.1666666666666667\n",
            "1.0\n"
          ]
        }
      ]
    },
    {
      "cell_type": "markdown",
      "source": [
        "**(e)**"
      ],
      "metadata": {
        "id": "gWn4LHmJxSTv"
      }
    },
    {
      "cell_type": "code",
      "source": [
        "def MADi(X):\n",
        "  miX = np.median(X)\n",
        "  madi = 0\n",
        "  for ele in X:\n",
        "    madi += abs(ele - miX)\n",
        "  madi = madi/len(X)\n",
        "  return madi\n",
        "\n",
        "print(MADi(X))\n",
        "print(MADi(Y))\n",
        "print(MADi(Z))"
      ],
      "metadata": {
        "colab": {
          "base_uri": "https://localhost:8080/"
        },
        "id": "xwqjHCHs4trP",
        "outputId": "9ea4a04a-45de-478c-fab6-168761fc3c79"
      },
      "execution_count": null,
      "outputs": [
        {
          "output_type": "stream",
          "name": "stdout",
          "text": [
            "0.75\n",
            "1.1666666666666667\n",
            "1.0\n"
          ]
        }
      ]
    },
    {
      "cell_type": "markdown",
      "source": [
        "**(f)**"
      ],
      "metadata": {
        "id": "4CP338GtxVk0"
      }
    },
    {
      "cell_type": "code",
      "source": [
        "def MADo(X):\n",
        "  mo, cnt = stats.mode(X)\n",
        "  moX = mo\n",
        "  mado = 0\n",
        "  for ele in X:\n",
        "    mado += abs(ele - moX)\n",
        "  mado = mado/len(X)\n",
        "  return mado\n",
        "\n",
        "print(MADo(X))\n",
        "print(MADo(Y))\n",
        "print(MADo(Z))"
      ],
      "metadata": {
        "colab": {
          "base_uri": "https://localhost:8080/"
        },
        "id": "klEoGcbH40jZ",
        "outputId": "1c62e3f7-2add-4c07-bde4-71f7a928ae9c"
      },
      "execution_count": null,
      "outputs": [
        {
          "output_type": "stream",
          "name": "stdout",
          "text": [
            "0.75\n",
            "1.1666666666666667\n",
            "1.5\n"
          ]
        }
      ]
    },
    {
      "cell_type": "markdown",
      "source": [
        "**(g)**"
      ],
      "metadata": {
        "id": "h2kuF8aixY9r"
      }
    },
    {
      "cell_type": "code",
      "source": [
        "def MPAD(X,p,mu):\n",
        "  mpad = 0\n",
        "  for ele in X:\n",
        "    mpad += abs(ele - mu)**p\n",
        "  mpad = mpad/len(X)\n",
        "  return mpad\n",
        "\n",
        "print(MPAD(X,3,np.median(X)))\n",
        "print(MPAD(X,3,np.median(Y)))\n",
        "print(MPAD(X,3,np.median(Z)))"
      ],
      "metadata": {
        "colab": {
          "base_uri": "https://localhost:8080/"
        },
        "id": "2L-O7CvE48dX",
        "outputId": "439a49c9-ec04-4e23-99d4-9e2b57288b01"
      },
      "execution_count": null,
      "outputs": [
        {
          "output_type": "stream",
          "name": "stdout",
          "text": [
            "2.25\n",
            "1.75\n",
            "1.34375\n"
          ]
        }
      ]
    },
    {
      "cell_type": "markdown",
      "source": [
        "**(h)**"
      ],
      "metadata": {
        "id": "V1GapV-OxbX-"
      }
    },
    {
      "cell_type": "code",
      "source": [
        "q3, q1 = np.percentile(X, [75 ,25])\n",
        "iqr = q3 - q1\n",
        "print(iqr)\n",
        "\n",
        "q3, q1 = np.percentile(Y, [75 ,25])\n",
        "iqr = q3 - q1\n",
        "print(iqr)\n",
        "\n",
        "q3, q1 = np.percentile(Z, [75 ,25])\n",
        "iqr = q3 - q1\n",
        "print(iqr)"
      ],
      "metadata": {
        "colab": {
          "base_uri": "https://localhost:8080/"
        },
        "id": "cZV0WQXo5Hi0",
        "outputId": "8a640f1a-89f0-4c66-9d72-03f1da96b8e7"
      },
      "execution_count": null,
      "outputs": [
        {
          "output_type": "stream",
          "name": "stdout",
          "text": [
            "1.25\n",
            "2.0\n",
            "1.5\n"
          ]
        }
      ]
    },
    {
      "cell_type": "markdown",
      "source": [
        "**(i)**"
      ],
      "metadata": {
        "id": "eKMawABtxdtk"
      }
    },
    {
      "cell_type": "code",
      "source": [
        "def sq(X):\n",
        "  ql = np.percentile(X,25)\n",
        "  qm = np.percentile(X,50)\n",
        "  qu = np.percentile(X,75)\n",
        "  return (qu+ql-2*qm)/(qu-ql)\n",
        "\n",
        "print(sq(X))\n",
        "print(sq(Y))\n",
        "print(sq(Z))"
      ],
      "metadata": {
        "colab": {
          "base_uri": "https://localhost:8080/"
        },
        "id": "xd_Qqj7l51SI",
        "outputId": "388d48c6-1761-4e51-a791-262b3bcb6d3a"
      },
      "execution_count": null,
      "outputs": [
        {
          "output_type": "stream",
          "name": "stdout",
          "text": [
            "-1.0\n",
            "0.0\n",
            "0.0\n"
          ]
        }
      ]
    },
    {
      "cell_type": "markdown",
      "source": [
        "**(j)**"
      ],
      "metadata": {
        "id": "DVZSblSlxgVX"
      }
    },
    {
      "cell_type": "code",
      "source": [
        "def avar(X):\n",
        "  mX = amean(X)\n",
        "  mV = 0\n",
        "  for ele in X:\n",
        "    mV += (ele - mX)**2\n",
        "  mV = mV/len(X)\n",
        "  return mV**(1/2)\n",
        "\n",
        "def sp1(X):\n",
        "  mo, cnt = stats.mode(X)\n",
        "  return (amean(X)-mo)/avar(X)\n",
        "\n",
        "print(sp1(X))\n",
        "print(sp1(Y))\n",
        "print(sp1(Z))"
      ],
      "metadata": {
        "colab": {
          "base_uri": "https://localhost:8080/"
        },
        "id": "scAPN-Gv6Czt",
        "outputId": "ab354e7e-3d11-4b7b-bab6-c7a19d423bc9"
      },
      "execution_count": null,
      "outputs": [
        {
          "output_type": "stream",
          "name": "stdout",
          "text": [
            "-0.5\n",
            "0.961523947640823\n",
            "1.3416407864998738\n"
          ]
        }
      ]
    },
    {
      "cell_type": "markdown",
      "source": [
        "**(k)**"
      ],
      "metadata": {
        "id": "gqTwzVhixi7b"
      }
    },
    {
      "cell_type": "code",
      "source": [
        "g1 = 3*(amean(X)-np.median(X))/avar(X)\n",
        "g2 = 3*(amean(X)-np.median(X))/avar(Y)\n",
        "g3 = 3*(amean(X)-np.median(X))/avar(Z)\n",
        "\n",
        "print(g1)\n",
        "print(g2)\n",
        "print(g3)"
      ],
      "metadata": {
        "colab": {
          "base_uri": "https://localhost:8080/"
        },
        "id": "JACmIaoi6KHY",
        "outputId": "2499fc24-fe79-4df5-9c1e-f5964d6b431e"
      },
      "execution_count": null,
      "outputs": [
        {
          "output_type": "stream",
          "name": "stdout",
          "text": [
            "-1.5\n",
            "-1.2362450755382013\n",
            "-1.3416407864998738\n"
          ]
        }
      ]
    },
    {
      "cell_type": "markdown",
      "source": [
        "**(l)**"
      ],
      "metadata": {
        "id": "iU3E2ziUxlF-"
      }
    },
    {
      "cell_type": "code",
      "source": [
        "gm1 = (amean(X)-np.median(X))/MADi(X)\n",
        "gm2 = (amean(X)-np.median(X))/MADi(Y)\n",
        "gm3 = (amean(X)-np.median(X))/MADi(Z)\n",
        "\n",
        "print(gm1)\n",
        "print(gm2)\n",
        "print(gm3)"
      ],
      "metadata": {
        "colab": {
          "base_uri": "https://localhost:8080/"
        },
        "id": "v4WbDQIL8j7e",
        "outputId": "47534c61-d6e6-4a27-e547-1ed563c488da"
      },
      "execution_count": null,
      "outputs": [
        {
          "output_type": "stream",
          "name": "stdout",
          "text": [
            "-0.6666666666666666\n",
            "-0.42857142857142855\n",
            "-0.5\n"
          ]
        }
      ]
    },
    {
      "cell_type": "markdown",
      "source": [
        "**(m)**"
      ],
      "metadata": {
        "id": "VDfhPRtExnvy"
      }
    },
    {
      "cell_type": "code",
      "source": [
        "def PMC(X,p,mu):\n",
        "  pstd = avar(X)**p\n",
        "  pmc = 0\n",
        "  for ele in X:\n",
        "    pmc += (ele-mu)**p\n",
        "  return pmc/(pstd * len(X))\n",
        "\n",
        "print(PMC(X,3,amean(X)))\n",
        "print(PMC(X,3,amean(Y)))\n",
        "print(PMC(X,3,amean(Z)))"
      ],
      "metadata": {
        "colab": {
          "base_uri": "https://localhost:8080/"
        },
        "id": "TkCQ-jxw80R_",
        "outputId": "ca095f00-2ca1-4aa1-868b-8ead1c9f6c27"
      },
      "execution_count": null,
      "outputs": [
        {
          "output_type": "stream",
          "name": "stdout",
          "text": [
            "-0.375\n",
            "0.6620370370370375\n",
            "-0.375\n"
          ]
        }
      ]
    },
    {
      "cell_type": "code",
      "source": [
        "print(\" η4(X) = \", PMC(X,4,amean(X)))\n",
        "print(\" η4(Y) = \", PMC(Y,4,amean(Y)))\n",
        "print(\" η4(Z) = \", PMC(Z,4,amean(Z)))"
      ],
      "metadata": {
        "colab": {
          "base_uri": "https://localhost:8080/"
        },
        "id": "vBtFCc4k9GUj",
        "outputId": "80848490-1cd5-4899-ae78-2f3d890d7c6b"
      },
      "execution_count": null,
      "outputs": [
        {
          "output_type": "stream",
          "name": "stdout",
          "text": [
            " η4(X) =  1.9375\n",
            " η4(Y) =  1.3702385190459243\n",
            " η4(Z) =  1.6399999999999997\n"
          ]
        }
      ]
    },
    {
      "cell_type": "code",
      "source": [
        "print(\" η3i(X) = \", PMC(X,3,np.median(X)))"
      ],
      "metadata": {
        "colab": {
          "base_uri": "https://localhost:8080/"
        },
        "id": "W8vMzgxX9O4m",
        "outputId": "8b437f48-92d2-4db7-8efb-070a11026030"
      },
      "execution_count": null,
      "outputs": [
        {
          "output_type": "stream",
          "name": "stdout",
          "text": [
            " η3i(X) =  -2.0\n"
          ]
        }
      ]
    },
    {
      "cell_type": "code",
      "source": [
        "mo, cnt = stats.mode(X)\n",
        "print(\" η4o(X) = \", PMC(X,4,mo) )"
      ],
      "metadata": {
        "colab": {
          "base_uri": "https://localhost:8080/"
        },
        "id": "R8vrGCSi9Ze5",
        "outputId": "bcbb5fd8-02a5-46fb-922c-704e384b2457"
      },
      "execution_count": null,
      "outputs": [
        {
          "output_type": "stream",
          "name": "stdout",
          "text": [
            " η4o(X) =  4.25\n"
          ]
        }
      ]
    },
    {
      "cell_type": "code",
      "source": [
        "print(\" η3i(X) = \", PMC(Y,3,np.median(Y)) )"
      ],
      "metadata": {
        "colab": {
          "base_uri": "https://localhost:8080/"
        },
        "id": "MNxGzXac9Z_O",
        "outputId": "f5ca26da-e210-4dda-d3f7-87601fb40193"
      },
      "execution_count": null,
      "outputs": [
        {
          "output_type": "stream",
          "name": "stdout",
          "text": [
            " η3i(X) =  0.6531106059447102\n"
          ]
        }
      ]
    },
    {
      "cell_type": "code",
      "source": [
        "mo, cnt = stats.mode(Y)\n",
        "print(\" η4o(X) = \", PMC(Y,4,mo) )"
      ],
      "metadata": {
        "colab": {
          "base_uri": "https://localhost:8080/"
        },
        "id": "4EGJa7z59cQA",
        "outputId": "af432b3a-4644-436a-92d0-6d1178ef96cf"
      },
      "execution_count": null,
      "outputs": [
        {
          "output_type": "stream",
          "name": "stdout",
          "text": [
            " η4o(X) =  8.68921324314703\n"
          ]
        }
      ]
    },
    {
      "cell_type": "code",
      "source": [
        "print(\" η3i(X) = \", PMC(Z,3,np.median(Z)))"
      ],
      "metadata": {
        "colab": {
          "base_uri": "https://localhost:8080/"
        },
        "id": "uyW2M_YB9-08",
        "outputId": "b97c6e26-bf08-4ee7-dbc7-6238a7d5f6cf"
      },
      "execution_count": null,
      "outputs": [
        {
          "output_type": "stream",
          "name": "stdout",
          "text": [
            " η3i(X) =  0.0\n"
          ]
        }
      ]
    },
    {
      "cell_type": "code",
      "source": [
        "mo, cnt = stats.mode(Z)\n",
        "print(\" η4o(X) = \", PMC(Z,4,mo))"
      ],
      "metadata": {
        "colab": {
          "base_uri": "https://localhost:8080/"
        },
        "id": "9aMxT-bV-AVP",
        "outputId": "5bb08c96-c3b8-496f-fa22-ca6951c3ee59"
      },
      "execution_count": null,
      "outputs": [
        {
          "output_type": "stream",
          "name": "stdout",
          "text": [
            " η4o(X) =  15.679999999999998\n"
          ]
        }
      ]
    },
    {
      "cell_type": "code",
      "source": [
        "import statistics as stats\n",
        "X = [69,74,68, 70,72, 67,66, 70, 76, 68, 72, 79, 74, 67,66, 71, 74, 75, 75, 76]\n",
        "stats.mode(X)\n",
        "\n",
        "def avar(X):\n",
        "  m = amean(X)\n",
        "  n = 0\n",
        "  for ele in X:\n",
        "    n += (ele - m)**2\n",
        "  n = n/(len(X)-1)\n",
        "  return n\n",
        "Y = [1,1,1,1,1,1,0,0,0,0]\n",
        "avar(Y)"
      ],
      "metadata": {
        "id": "UoFj-IRN-DlZ",
        "colab": {
          "base_uri": "https://localhost:8080/"
        },
        "outputId": "967b1dc4-6d84-44f8-e117-451e1b4946eb"
      },
      "execution_count": null,
      "outputs": [
        {
          "output_type": "execute_result",
          "data": {
            "text/plain": [
              "0.26666666666666666"
            ]
          },
          "metadata": {},
          "execution_count": 3
        }
      ]
    },
    {
      "cell_type": "code",
      "source": [
        "def Mean (X):\n",
        "  m = 0\n",
        "  for ele in X:\n",
        "    m = m + ele\n",
        "  return m/len(X)\n",
        "X = [69,74,68, 70,72, 67,66, 70, 76, 68, 72, 79, 74, 67,66, 71, 74, 75, 75, 76]\n",
        "Y = [153,175,155,135, 172, 150,115, 137, 200, 130, 140, 265, 185,112,140,150,165,185,210,220]\n",
        "Mean(Y)\n",
        "\n",
        "def avar(X):\n",
        "  m = Mean(X)\n",
        "  n = 0\n",
        "  for ele in X:\n",
        "    n += (ele - m)**2\n",
        "  n = n/(len(X))\n",
        "  return n\n",
        "Y = [153,175,155,135, 172, 150,115, 137, 200, 130, 140, 265, 185,112,140,150,165,185,210,220]\n",
        "\n",
        "Mean(Y)"
      ],
      "metadata": {
        "colab": {
          "base_uri": "https://localhost:8080/"
        },
        "id": "-dy0xrxwp0o8",
        "outputId": "2a817b9d-4c58-46c2-a0d8-ed69b7b0645a"
      },
      "execution_count": null,
      "outputs": [
        {
          "output_type": "execute_result",
          "data": {
            "text/plain": [
              "164.7"
            ]
          },
          "metadata": {},
          "execution_count": 7
        }
      ]
    },
    {
      "cell_type": "code",
      "source": [
        "import numpy as np\n",
        "import matplotlib.pyplot as plt\n",
        "from scipy.stats import norm\n",
        "import statistics\n",
        "\n",
        "X = [69, 74, 68, 70, 72, 67, 66, 70, 76, 68, 72, 79, 74, 67, 66, 71, 74, 75, 75, 76]\n",
        "\n",
        "# Calculating mean and standard deviation\n",
        "# xmin, xmax = plt.xlim()\n",
        "# X = np.linspace(xmin, xmax, 20)\n",
        "m = statistics.mean(X)\n",
        "sd = statistics.stdev(X)\n",
        "\n",
        "# print(m, sd)\n",
        "\n",
        "plt.plot(X, norm.pdf(X, m, sd))\n",
        "plt.show()"
      ],
      "metadata": {
        "colab": {
          "base_uri": "https://localhost:8080/",
          "height": 430
        },
        "id": "V_cVt5intHjQ",
        "outputId": "5a1bfa4e-7974-48b5-9e68-e596512b7ca4"
      },
      "execution_count": null,
      "outputs": [
        {
          "output_type": "display_data",
          "data": {
            "text/plain": [
              "<Figure size 640x480 with 1 Axes>"
            ],
            "image/png": "[encoded data removed]"
          },
          "metadata": {}
        }
      ]
    },
    {
      "cell_type": "code",
      "source": [
        "from re import A\n",
        "def Mean(X):\n",
        "  m = 0\n",
        "  for ele in X:\n",
        "    m = m + ele\n",
        "  return m/len(X)\n",
        "X = [69,74,68, 70,72, 67,66, 70, 76, 68, 72, 79, 74, 67,66, 71, 74, 75, 75, 76]\n",
        "Y = [153,175,155,135, 172, 150,115, 137, 200, 130, 140, 265, 185,112,140,150,165,185,210,220]\n",
        "a = []\n",
        "\n",
        "def unit(X):\n",
        "  for ele in X:\n",
        "    a += [ele - Mean(X)]\n",
        "  return a\n",
        "\n",
        "def dot_prod(X,Y):\n",
        "  dp = 0\n",
        "  for i in range(len(a)):\n",
        "    dp += X[i]*Y[i]\n",
        "\n",
        "  return dot_prod\n",
        "\n",
        "print(dot_prod(X,Y))\n"
      ],
      "metadata": {
        "colab": {
          "base_uri": "https://localhost:8080/"
        },
        "id": "TVNtAmGe8fBH",
        "outputId": "d273041b-b905-4d05-fb97-10cc35d19b87"
      },
      "execution_count": null,
      "outputs": [
        {
          "output_type": "stream",
          "name": "stdout",
          "text": [
            "<function dot_prod at 0x7c0442df2200>\n"
          ]
        }
      ]
    },
    {
      "cell_type": "code",
      "source": [
        "X = [69,74,68, 70,72, 67,66, 70, 76, 68, 72, 79, 74, 67,66, 71, 74, 75, 75, 76]\n",
        "Y = [153,175,155,135, 172, 150,115, 137, 200, 130, 140, 265, 185,112,140,150,165,185,210,220]\n",
        "\n",
        "plt.scatter(X, Y)"
      ],
      "metadata": {
        "colab": {
          "base_uri": "https://localhost:8080/",
          "height": 447
        },
        "id": "rz2FDbRQuXyR",
        "outputId": "6ab26f1a-129b-49d5-95ab-1faec120fb7b"
      },
      "execution_count": null,
      "outputs": [
        {
          "output_type": "execute_result",
          "data": {
            "text/plain": [
              "<matplotlib.collections.PathCollection at 0x7c0411a690f0>"
            ]
          },
          "metadata": {},
          "execution_count": 3
        },
        {
          "output_type": "display_data",
          "data": {
            "text/plain": [
              "<Figure size 640x480 with 1 Axes>"
            ],
            "image/png": "[encoded data removed]"
          },
          "metadata": {}
        }
      ]
    },
    {
      "cell_type": "code",
      "source": [
        "def Mean(X):\n",
        "  m = 0\n",
        "  for ele in X:\n",
        "    m = m + ele\n",
        "  return m/len(X)\n",
        "X = [69,74,68, 70,72, 67,66, 70, 76, 68, 72, 79, 74, 67,66, 71, 74, 75, 75, 76]\n",
        "Y = [153,175,155,135, 172, 150,115, 137, 200, 130, 140, 265, 185,112,140,150,165,185,210,220]\n",
        "\n",
        "\n",
        "def unit(X):\n",
        "  for i in range(len(X)):\n",
        "    a = []\n",
        "    a = [i - Mean(X)]\n",
        "  return a\n",
        "\n",
        "print(unit(X))\n",
        "print(unit(Y))"
      ],
      "metadata": {
        "id": "mlsM1puHcFv4",
        "colab": {
          "base_uri": "https://localhost:8080/"
        },
        "outputId": "8d62cd84-afe3-430f-aacd-815e77452c41"
      },
      "execution_count": null,
      "outputs": [
        {
          "output_type": "stream",
          "name": "stdout",
          "text": [
            "[-52.45]\n",
            "[-145.7]\n"
          ]
        }
      ]
    },
    {
      "cell_type": "code",
      "source": [
        "def Mean(X):\n",
        "  m = 0\n",
        "  for ele in X:\n",
        "    m = m + ele\n",
        "  return m/len(X)\n",
        "\n",
        "def avar(X):\n",
        "  m = Mean(X)\n",
        "  n = 0\n",
        "  for ele in X:\n",
        "    n += (ele - m)**2\n",
        "  n = n/len(X)\n",
        "  return n**(1/2)\n",
        "\n",
        "\n",
        "Y = [70,75,45,68,71,72,80,77,63,68]\n",
        "\n",
        "avar(Y)"
      ],
      "metadata": {
        "id": "jMmpReKRs3SF",
        "colab": {
          "base_uri": "https://localhost:8080/"
        },
        "outputId": "441b76ce-648d-4974-dd48-9cd4e3abd963"
      },
      "execution_count": null,
      "outputs": [
        {
          "output_type": "execute_result",
          "data": {
            "text/plain": [
              "9.213576938409968"
            ]
          },
          "metadata": {},
          "execution_count": 1
        }
      ]
    },
    {
      "cell_type": "code",
      "source": [],
      "metadata": {
        "id": "5GJfDQ_Ps4ZV"
      },
      "execution_count": null,
      "outputs": []
    }
  ]
}